{
 "cells": [
  {
   "attachments": {},
   "cell_type": "markdown",
   "metadata": {},
   "source": [
    "# Extraction de données via l'API Edamam Food and Grocery Database"
   ]
  },
  {
   "cell_type": "code",
   "execution_count": 15,
   "metadata": {},
   "outputs": [],
   "source": [
    "import requests\n",
    "import json\n",
    "import pandas as pd\n",
    "from keys import API_KEY, API_ID\n",
    "url = \"https://api.edamam.com/api/food-database/v2/parser\"\n"
   ]
  },
  {
   "cell_type": "code",
   "execution_count": 40,
   "metadata": {},
   "outputs": [],
   "source": [
    "def extract_products(query: str, results_count=10) -> pd.DataFrame:\n",
    "\n",
    "    querystring = {\"app_key\": API_KEY,\"app_id\": API_ID, \"ingr\": query}\n",
    "    results = []\n",
    "\n",
    "    response = requests.request(\"GET\", url, params=querystring).json()\n",
    "        \n",
    "    for i in range(results_count):\n",
    "        product_data = {}\n",
    "        if 'foodId' in response['hints'][i]['food']: product_data['foodId'] = response['hints'][i]['food']['foodId']\n",
    "        if 'image' in response['hints'][i]['food']: product_data['image'] = response['hints'][i]['food']['image']\n",
    "        if 'label' in response['hints'][i]['food']: product_data['label'] = response['hints'][i]['food']['label']\n",
    "        if 'category' in response['hints'][i]['food']: product_data['category'] = response['hints'][i]['food']['category']\n",
    "        if 'categoryLabel' in response['hints'][i]['food']: product_data['categoryLabel'] = response['hints'][i]['food']['categoryLabel']\n",
    "        \n",
    "        results.append(product_data)\n",
    "\n",
    "\n",
    "    return pd.DataFrame(results)\n",
    "            \n",
    "\n",
    "\n",
    "extract_products('champagne').to_csv('api_products.csv', index=False)\n",
    "\n"
   ]
  },
  {
   "cell_type": "code",
   "execution_count": null,
   "metadata": {},
   "outputs": [],
   "source": []
  }
 ],
 "metadata": {
  "kernelspec": {
   "display_name": "Python 3",
   "language": "python",
   "name": "python3"
  },
  "language_info": {
   "codemirror_mode": {
    "name": "ipython",
    "version": 3
   },
   "file_extension": ".py",
   "mimetype": "text/x-python",
   "name": "python",
   "nbconvert_exporter": "python",
   "pygments_lexer": "ipython3",
   "version": "3.10.6"
  },
  "orig_nbformat": 4
 },
 "nbformat": 4,
 "nbformat_minor": 2
}
